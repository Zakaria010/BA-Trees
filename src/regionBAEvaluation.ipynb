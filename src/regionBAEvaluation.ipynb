{
  "cells": [
    {
      "cell_type": "code",
      "execution_count": 1,
      "metadata": {
        "id": "yXY_zSv5mXM_"
      },
      "outputs": [],
      "source": [
        "import numpy as np\n",
        "import matplotlib.pyplot as plt\n",
        "from sklearn.ensemble import RandomForestClassifier\n",
        "from persistence import *"
      ]
    },
    {
      "cell_type": "code",
      "execution_count": 9,
      "metadata": {
        "id": "nn3-FQlPmBlQ"
      },
      "outputs": [],
      "source": [
        "# Load your data into a numpy array\n",
        "\n",
        "data = np.genfromtxt(\"/home/elkzak/BA-Trees/src/resources/datasets/FICO/FICO.train1.csv\", delimiter=\",\")\n",
        "data = data[1:]\n",
        "\n",
        "\n",
        "\n"
      ]
    },
    {
      "cell_type": "code",
      "execution_count": 10,
      "metadata": {
        "id": "4J5937TIr1nf"
      },
      "outputs": [],
      "source": [
        "# Split your data into training and testing sets\n",
        "X_train, y_train = data[:, :-1], data[:, -1]\n",
        "\n",
        "# Train a random forest model on your training data\n",
        "rf = classifier_from_file('/home/elkzak/BA-Trees/src/resources/forests/FICO/FICO.RF1.txt',X_train,y_train)\n",
        "dt = classifier_from_file('/home/elkzak/BA-Trees/src/output/FICO/FICO.BA1.D3.tree',X_train,y_train)\n"
      ]
    },
    {
      "cell_type": "code",
      "execution_count": 2,
      "metadata": {
        "colab": {
          "base_uri": "https://localhost:8080/"
        },
        "id": "nO0Fme4rmSkG",
        "outputId": "a76011f8-3442-42df-ea54-34d1ec711ad9"
      },
      "outputs": [],
      "source": [
        "# Define an example instance and its original class label\n",
        "def generate_vectors_between(arr1, arr2, num_vectors=10):\n",
        "    new_arr = []\n",
        "    \n",
        "    for _ in range(num_vectors):\n",
        "        vector = []\n",
        "        for i in range(len(arr1)):\n",
        "            # Générer une valeur aléatoire entre les éléments correspondants des deux tableaux\n",
        "            value_between = np.random.uniform(arr1[i], arr2[i])\n",
        "            vector.append(value_between)\n",
        "        new_arr.append(vector)\n",
        "    \n",
        "    return np.array(new_arr)\n",
        "\n",
        "# bottom = np.array([0, 0, 0, 0, 0, 1, 0, 0, 0, 0, 0, 0, 0, 0, 1, 1, 0])\n",
        "# top = np.array([1, 1, 1, 1, 1, 1, 1, 1, 1, 1, 1, 0, 0, 1, 1, 1, 0])\n",
        "# set_ = generate_vectors_between(bottom,top,num_vectors=100)\n",
        "# original_label = rf.predict(top.reshape(1, -1)).ravel()[0]\n",
        "# predicted_label = dt.predict(top.reshape(1, -1)).ravel()[0]\n",
        "# print(original_label,predicted_label)\n",
        "# s=0\n",
        "# for elt in set_ : \n",
        "#   s+=rf.predict(elt.reshape(1, -1)).ravel()[0]-dt.predict(elt.reshape(1, -1)).ravel()[0]\n",
        "# print(s)\n",
        "\n"
      ]
    },
    {
      "cell_type": "code",
      "execution_count": 3,
      "metadata": {
        "colab": {
          "base_uri": "https://localhost:8080/"
        },
        "id": "xd9MHr-ZYdYi",
        "outputId": "544b11fa-5f01-4e18-908f-3dbef971cb8e"
      },
      "outputs": [],
      "source": [
        "def extract_region(path) :\n",
        "    Bottomvector = None\n",
        "    Topvector = None\n",
        "    with open(path, 'r') as file:\n",
        "        for line in file:\n",
        "            if line.startswith('Bottom Vector'):\n",
        "                vector_str = line.split(':')[1].strip()  # Supprime le \"Bottom Vector\" et les espaces\n",
        "                Bottomvector = [float(num) for num in vector_str.split(',')]\n",
        "            if line.startswith('Top Vector'):\n",
        "                vector_str = line.split(':')[1].strip()  # Supprime le \"Bottom Vector\" et les espaces\n",
        "                Topvector = [float(num) for num in vector_str.split(',')]\n",
        "                \n",
        "    if Bottomvector is None :\n",
        "        print(path,'\\n')\n",
        "    return Bottomvector, Topvector\n",
        "def extract_time(path) :\n",
        "    with open(path, 'r') as file:\n",
        "        line = file.readline().strip()\n",
        "    cases = line.split(\",\")\n",
        "    return cases[10]"
      ]
    },
    {
      "cell_type": "code",
      "execution_count": 13,
      "metadata": {
        "id": "kbBlBvoYx4ia"
      },
      "outputs": [
        {
          "name": "stdout",
          "output_type": "stream",
          "text": [
            "Breast-Cancer-Wisconsin1  :  -1.00000048e-06 \n",
            "\n",
            "Breast-Cancer-Wisconsin2  :  -0.00255 \n",
            "\n",
            "Breast-Cancer-Wisconsin3  :  0.0 \n",
            "\n",
            "Breast-Cancer-Wisconsin4  :  0.0 \n",
            "\n",
            "Breast-Cancer-Wisconsin5  :  0.0 \n",
            "\n",
            "Breast-Cancer-Wisconsin6  :  0.0 \n",
            "\n",
            "Breast-Cancer-Wisconsin7  :  -0.005051 \n",
            "\n",
            "Breast-Cancer-Wisconsin8  :  0.0 \n",
            "\n",
            "Breast-Cancer-Wisconsin9  :  0.0 \n",
            "\n",
            "Breast-Cancer-Wisconsin10  :  0.0 \n",
            "\n",
            "COMPAS-ProPublica1  :  0.0 \n",
            "\n",
            "COMPAS-ProPublica2  :  0.0 \n",
            "\n",
            "COMPAS-ProPublica3  :  0.0 \n",
            "\n",
            "COMPAS-ProPublica4  :  0.0 \n",
            "\n",
            "COMPAS-ProPublica5  :  0.0 \n",
            "\n",
            "COMPAS-ProPublica6  :  0.0 \n",
            "\n",
            "COMPAS-ProPublica7  :  0.0 \n",
            "\n",
            "COMPAS-ProPublica8  :  0.0 \n",
            "\n",
            "COMPAS-ProPublica9  :  0.0 \n",
            "\n",
            "COMPAS-ProPublica10  :  0.0 \n",
            "\n",
            "FICO1  :  0.0 \n",
            "\n",
            "FICO2  :  0.0 \n",
            "\n",
            "FICO3  :  0.0 \n",
            "\n",
            "FICO4  :  0.0 \n",
            "\n",
            "FICO5  :  0.0 \n",
            "\n",
            "FICO6  :  0.0 \n",
            "\n",
            "FICO7  :  0.0 \n",
            "\n",
            "FICO8  :  0.0 \n",
            "\n",
            "FICO9  :  0.0 \n",
            "\n",
            "FICO10  :  0.0 \n",
            "\n",
            "HTRU21  :  0.0 \n",
            "\n",
            "HTRU22  :  0.0 \n",
            "\n",
            "HTRU23  :  0.0 \n",
            "\n",
            "HTRU24  :  0.0 \n",
            "\n",
            "HTRU25  :  0.0 \n",
            "\n",
            "HTRU26  :  0.0 \n",
            "\n",
            "HTRU27  :  0.0 \n",
            "\n",
            "HTRU28  :  0.0 \n",
            "\n",
            "HTRU29  :  0.0 \n",
            "\n",
            "HTRU210  :  0.0 \n",
            "\n",
            "Pima-Diabetes1  :  -8.73936e-10 \n",
            "\n",
            "Pima-Diabetes2  :  -5.102204050880001e-05 \n",
            "\n",
            "Pima-Diabetes3  :  -3.7439999999999995e-13 \n",
            "\n",
            "Pima-Diabetes4  :  -2.4164864000000003e-09 \n",
            "\n",
            "Pima-Diabetes5  :  -1.6e-14 \n",
            "\n",
            "Pima-Diabetes6  :  -2.00009728e-08 \n",
            "\n",
            "Pima-Diabetes7  :  0.0 \n",
            "\n",
            "Pima-Diabetes8  :  0.0 \n",
            "\n",
            "Pima-Diabetes9  :  -0.007550082457280001 \n",
            "\n",
            "Pima-Diabetes10  :  -3.0200081919999995e-06 \n",
            "\n",
            "Seeds1  :  -9.821020544e-07 \n",
            "\n",
            "Seeds2  :  -1.6799424000000004e-09 \n",
            "\n",
            "Seeds3  :  -1.57012306688e-05 \n",
            "\n",
            "Seeds4  :  -7.5100164992e-06 \n",
            "\n",
            "Seeds5  :  -9.036729068799999e-06 \n",
            "\n",
            "Seeds6  :  -1.2164911052800001e-05 \n",
            "\n",
            "Seeds7  :  0.000518335435104 \n",
            "\n",
            "Seeds8  :  0.0274042621529152 \n",
            "\n",
            "Seeds9  :  0.0029878943497152 \n",
            "\n",
            "Seeds10  :  0.00038266858932479997 \n",
            "\n"
          ]
        }
      ],
      "source": [
        "datasets = [\"Breast-Cancer-Wisconsin\",\"COMPAS-ProPublica\",\"FICO\",\"HTRU2\",\"Pima-Diabetes\",\"Seeds\"]\n",
        "lossDict = dict()\n",
        "timeDict = dict()\n",
        "for dataset in datasets :\n",
        "    timeDict[dataset] = [np.array([k for k in range(3,11)]),np.array([0.0 for k in range(3,11)])]\n",
        "    for i in range(1,11) :\n",
        "        path = \"/home/elkzak/BA-Trees/src/resources/datasets/\" + dataset + \"/\" + dataset +\".train\"+str(i)+\".csv\"\n",
        "        temp_data = np.genfromtxt(path, delimiter=\",\")\n",
        "        temp_data = temp_data[1:]\n",
        "        temp_X,temp_Y= temp_data[:, :-1], temp_data[:, -1]\n",
        "        rf_path = '/home/elkzak/BA-Trees/src/resources/forests/'+ dataset + \"/\" + dataset + \".RF\"+str(i)+\".txt\"\n",
        "        temp_rf = classifier_from_file(rf_path,temp_X,temp_Y)\n",
        "        loss = 0\n",
        "        for j in range(3,11) :\n",
        "            dt_path = '/home/elkzak/BA-Trees/src/outputGini/'+ dataset + \"/\" + dataset +\".BA\"+str(i)+\".D\"+str(j)+'.tree'\n",
        "            out_path = '/home/elkzak/BA-Trees/src/outputGini/'+ dataset + \"/\" + dataset +\".BA\"+str(i)+\".D\"+str(j)+'.out'\n",
        "            temp_dt= classifier_from_file(dt_path,temp_X,temp_Y)\n",
        "            temp_Bottom,temp_Top = extract_region(dt_path)\n",
        "            time = extract_time(out_path)\n",
        "            timeDict[dataset][1][j-3] += float(time) \n",
        "            temp_region = generate_vectors_between(temp_Bottom,temp_Top,num_vectors=50)\n",
        "            for elt in temp_region : \n",
        "                loss+=temp_rf.predict(elt.reshape(1, -1)).ravel()[0]-temp_dt.predict(elt.reshape(1, -1)).ravel()[0]\n",
        "            loss /= 50\n",
        "        loss/=8\n",
        "        lossDict[dataset+str(i)] = loss\n",
        "    timeDict[dataset][1] = (timeDict[dataset][1]/10.0).astype(float)\n",
        "for elt in lossDict : \n",
        "    print(elt, \" : \", lossDict[elt],'\\n')"
      ]
    },
    {
      "cell_type": "code",
      "execution_count": 14,
      "metadata": {},
      "outputs": [
        {
          "data": {
            "image/png": "[encoded data removed]",
            "text/plain": [
              "<Figure size 640x480 with 1 Axes>"
            ]
          },
          "metadata": {},
          "output_type": "display_data"
        }
      ],
      "source": [
        "for dataset in datasets:\n",
        "    plt.plot(timeDict[dataset][0],timeDict[dataset][1],label=dataset)\n",
        "plt.legend()\n",
        "plt.xlabel('Depth')\n",
        "plt.ylabel('time')\n",
        "plt.show()"
      ]
    }
  ],
  "metadata": {
    "colab": {
      "provenance": []
    },
    "kernelspec": {
      "display_name": "Python 3",
      "name": "python3"
    },
    "language_info": {
      "codemirror_mode": {
        "name": "ipython",
        "version": 3
      },
      "file_extension": ".py",
      "mimetype": "text/x-python",
      "name": "python",
      "nbconvert_exporter": "python",
      "pygments_lexer": "ipython3",
      "version": "3.9.16"
    }
  },
  "nbformat": 4,
  "nbformat_minor": 0
}
